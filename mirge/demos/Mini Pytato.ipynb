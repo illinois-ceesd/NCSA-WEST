{
 "cells": [
  {
   "cell_type": "markdown",
   "id": "c151c414-2827-42d6-8eb7-5edaf09dbd56",
   "metadata": {},
   "source": [
    "# Mini Pytato "
   ]
  },
  {
   "cell_type": "code",
   "execution_count": 1,
   "id": "880a1006-9486-4055-b648-ba787448f920",
   "metadata": {},
   "outputs": [
    {
     "name": "stdout",
     "output_type": "stream",
     "text": [
      "Choose platform:\n",
      "[0] <pyopencl.Platform 'Intel(R) OpenCL HD Graphics' at 0x4270220>\n",
      "[1] <pyopencl.Platform 'Portable Computing Language' at 0x7fe6b28e08e8>\n"
     ]
    },
    {
     "name": "stdin",
     "output_type": "stream",
     "text": [
      "Choice [0]: 1\n"
     ]
    },
    {
     "name": "stdout",
     "output_type": "stream",
     "text": [
      "Set the environment variable PYOPENCL_CTX='1' to avoid being asked again.\n"
     ]
    }
   ],
   "source": [
    "import numpy as np\n",
    "import numpy.linalg as la\n",
    "import pymbolic.primitives as p\n",
    "import loopy as lp\n",
    "import pyopencl as cl\n",
    "import pyopencl.array\n",
    "\n",
    "ctx = cl.create_some_context(interactive=True)\n",
    "queue = cl.CommandQueue(ctx)"
   ]
  },
  {
   "cell_type": "code",
   "execution_count": 2,
   "id": "d4a767cc-3bb5-4c2a-a46d-a108e2163cf2",
   "metadata": {},
   "outputs": [],
   "source": [
    "class Array:\n",
    "    def __init__(self):\n",
    "        self.shape = (10, 10)\n",
    "        self.dtype = np.float64\n",
    "        \n",
    "    def __add__(self, other):\n",
    "        return Sum(self, other)\n",
    "    \n",
    "    def __mul__(self, other):\n",
    "        return Product(self, other)\n",
    "        \n",
    "class Sum(Array):\n",
    "    def __init__(self, a, b):\n",
    "        super().__init__()\n",
    "        self.a = a\n",
    "        self.b = b\n",
    "        \n",
    "    mapper_method = \"map_sum\"\n",
    "        \n",
    "class Product(Array):\n",
    "    def __init__(self, a, b):\n",
    "        super().__init__()\n",
    "        self.a = a\n",
    "        self.b = b\n",
    "        \n",
    "    mapper_method = \"map_product\"\n",
    "        \n",
    "class Placeholder(Array):\n",
    "    def __init__(self, name):\n",
    "        super().__init__()\n",
    "        self.name = name\n",
    "        \n",
    "    mapper_method = \"map_placeholder\""
   ]
  },
  {
   "cell_type": "code",
   "execution_count": 3,
   "id": "50b1d56a-36ae-4c68-b325-cb5c8a1247cb",
   "metadata": {},
   "outputs": [],
   "source": [
    "class Mapper:\n",
    "    def rec(self, ary):\n",
    "        return getattr(self, ary.mapper_method)(ary)"
   ]
  },
  {
   "cell_type": "code",
   "execution_count": 4,
   "id": "33a4e17b-b5c6-475a-97aa-84646c68e7b9",
   "metadata": {},
   "outputs": [],
   "source": [
    "class CodegenMapper(Mapper):\n",
    "    def map_sum(self, expr):\n",
    "        return self.rec(expr.a) + self.rec(expr.b)\n",
    "    \n",
    "    def map_product(self, expr):\n",
    "        return self.rec(expr.a) * self.rec(expr.b)\n",
    "    \n",
    "    def map_placeholder(self, expr):\n",
    "        return p.Variable(expr.name)[p.Variable(\"i\"), p.Variable(\"j\")]"
   ]
  },
  {
   "cell_type": "code",
   "execution_count": 5,
   "id": "20235511-4904-4e5d-8a04-0275d378ab76",
   "metadata": {},
   "outputs": [],
   "source": [
    "x = Placeholder(\"x\")\n",
    "y = Placeholder(\"y\")\n",
    "\n",
    "expr = (x+x*y)*x\n",
    "\n",
    "# expr = (x+y)\n",
    "# expr = expr*expr\n",
    "# expr = expr*expr\n",
    "# expr = expr*expr\n",
    "# expr = expr*expr\n",
    "# expr = expr*expr"
   ]
  },
  {
   "cell_type": "code",
   "execution_count": 6,
   "id": "88c740c1-d882-4c3a-95cd-4700b35071b6",
   "metadata": {},
   "outputs": [
    {
     "name": "stdout",
     "output_type": "stream",
     "text": [
      "(x[i, j] + x[i, j]*y[i, j])*x[i, j]\n"
     ]
    }
   ],
   "source": [
    "print(CodegenMapper().rec(expr))"
   ]
  },
  {
   "cell_type": "code",
   "execution_count": 7,
   "id": "53471296-dd7a-49b2-94b1-f2a0ad3202d7",
   "metadata": {},
   "outputs": [
    {
     "name": "stdout",
     "output_type": "stream",
     "text": [
      "---------------------------------------------------------------------------\n",
      "KERNEL: loopy_kernel\n",
      "---------------------------------------------------------------------------\n",
      "ARGUMENTS:\n",
      "lhs: type: <auto/runtime>, shape: (10, 10), dim_tags: (N1:stride:10, N0:stride:1) out aspace: global\n",
      "x: type: <auto/runtime>, shape: (10, 10), dim_tags: (N1:stride:10, N0:stride:1) in aspace: global\n",
      "y: type: <auto/runtime>, shape: (10, 10), dim_tags: (N1:stride:10, N0:stride:1) in aspace: global\n",
      "---------------------------------------------------------------------------\n",
      "DOMAINS:\n",
      "{ [i, j] : 0 <= i <= 9 and 0 <= j <= 9 }\n",
      "---------------------------------------------------------------------------\n",
      "INAME TAGS:\n",
      "i: None\n",
      "j: None\n",
      "---------------------------------------------------------------------------\n",
      "INSTRUCTIONS:\n",
      "for i, j\n",
      "    \u001b[36mlhs[i, j]\u001b[0m = \u001b[35m(x[i, j] + x[i, j]*y[i, j])*x[i, j]\u001b[0m  {id=\u001b[32minsn\u001b[0m}\n",
      "end i, j\n",
      "---------------------------------------------------------------------------\n"
     ]
    },
    {
     "name": "stderr",
     "output_type": "stream",
     "text": [
      "/home/andreas/src/loopy/loopy/kernel/creation.py:2595: LoopyWarning: 'lang_version' was not passed to make_function(). To avoid this warning, pass lang_version=(2018, 2) in this invocation. (Or say 'from loopy.version import LOOPY_USE_LANGUAGE_VERSION_2018_2' in the global scope of the calling frame.)\n",
      "  tunit = make_function(*args, **kwargs)\n"
     ]
    }
   ],
   "source": [
    "knl = lp.make_kernel(\n",
    "    \"{[i,j]: 0<=i,j<10}\",\n",
    "    [lp.Assignment(\n",
    "        p.Variable(\"lhs\")[p.Variable(\"i\"), p.Variable(\"j\")], \n",
    "        CodegenMapper().rec(expr)\n",
    "    )])\n",
    "print(knl)"
   ]
  },
  {
   "cell_type": "code",
   "execution_count": 8,
   "id": "1b0255c7-b511-4c6c-9781-291595758311",
   "metadata": {},
   "outputs": [
    {
     "name": "stderr",
     "output_type": "stream",
     "text": [
      "/tmp/ipykernel_301600/976168068.py:4: DirectCallUncachedWarning: TranslationUnit.__call__ will become uncached in 2024, meaning it will incur possibly substantial compilation cost with every invocation. Use TranslationUnit.executor to obtain an object that holds longer-lived caches.\n",
      "  evt, (res,) = knl(queue, x=xval, y=yval)\n"
     ]
    }
   ],
   "source": [
    "xval = np.random.randn(10, 10)\n",
    "yval = np.random.randn(10, 10)\n",
    "\n",
    "evt, (res,) = knl(queue, x=xval, y=yval)"
   ]
  },
  {
   "cell_type": "code",
   "execution_count": 9,
   "id": "b6a639af-e594-4ab6-8616-4f3b0e54b861",
   "metadata": {},
   "outputs": [
    {
     "name": "stdout",
     "output_type": "stream",
     "text": [
      "3.818293849341007e-15\n"
     ]
    }
   ],
   "source": [
    "print(la.norm(res- (xval+xval*yval)*xval))"
   ]
  },
  {
   "cell_type": "code",
   "execution_count": 10,
   "id": "d27cf5eb-4e6d-4966-9eaa-8e3e6a39bee7",
   "metadata": {},
   "outputs": [
    {
     "name": "stdout",
     "output_type": "stream",
     "text": [
      "#define lid(N) ((int) get_local_id(N))\n",
      "#define gid(N) ((int) get_group_id(N))\n",
      "#if __OPENCL_C_VERSION__ < 120\n",
      "#pragma OPENCL EXTENSION cl_khr_fp64: enable\n",
      "#endif\n",
      "\n",
      "__kernel void __attribute__ ((reqd_work_group_size(1, 1, 1))) loopy_kernel(__global double *__restrict__ lhs, __global double const *__restrict__ x, __global double const *__restrict__ y)\n",
      "{\n",
      "  for (int j = 0; j <= 9; ++j)\n",
      "    for (int i = 0; i <= 9; ++i)\n",
      "      lhs[10 * i + j] = (x[10 * i + j] + x[10 * i + j] * y[10 * i + j]) * x[10 * i + j];\n",
      "}\n"
     ]
    }
   ],
   "source": [
    "knl = lp.add_and_infer_dtypes(knl, {\"x\": xval.dtype, \"y\": yval.dtype})\n",
    "\n",
    "code = lp.generate_code_v2(knl).device_code()\n",
    "print(code)"
   ]
  },
  {
   "cell_type": "code",
   "execution_count": 11,
   "id": "8854f2d7-6ea6-43a8-af71-4e92f0b421d3",
   "metadata": {},
   "outputs": [],
   "source": [
    "prg = cl.Program(ctx, code).build()"
   ]
  },
  {
   "cell_type": "code",
   "execution_count": 12,
   "id": "74ab4393-ad15-4fbf-adb9-637521273487",
   "metadata": {},
   "outputs": [
    {
     "data": {
      "text/plain": [
       "<pyopencl._cl.Event at 0x7fe68c11cad0>"
      ]
     },
     "execution_count": 12,
     "metadata": {},
     "output_type": "execute_result"
    }
   ],
   "source": [
    "xval_dev = cl.array.to_device(queue, xval)\n",
    "yval_dev = cl.array.to_device(queue, yval)\n",
    "lhs_dev = cl.array.empty_like(xval_dev)\n",
    "\n",
    "prg.loopy_kernel(queue, (1,), (1,), lhs_dev.data, xval_dev.data, yval_dev.data)"
   ]
  },
  {
   "cell_type": "code",
   "execution_count": 13,
   "id": "a15ea19f-c437-4428-a9f8-0858760a32e3",
   "metadata": {},
   "outputs": [
    {
     "name": "stdout",
     "output_type": "stream",
     "text": [
      "0.0\n"
     ]
    }
   ],
   "source": [
    "lhs = lhs_dev.get()\n",
    "print(la.norm(lhs - res))"
   ]
  },
  {
   "cell_type": "code",
   "execution_count": null,
   "id": "a31357ba-1b4d-4c34-9e51-3d40950e34e1",
   "metadata": {},
   "outputs": [],
   "source": []
  }
 ],
 "metadata": {
  "kernelspec": {
   "display_name": "Python 3 (ipykernel)",
   "language": "python",
   "name": "python3"
  },
  "language_info": {
   "codemirror_mode": {
    "name": "ipython",
    "version": 3
   },
   "file_extension": ".py",
   "mimetype": "text/x-python",
   "name": "python",
   "nbconvert_exporter": "python",
   "pygments_lexer": "ipython3",
   "version": "3.11.5"
  }
 },
 "nbformat": 4,
 "nbformat_minor": 5
}
