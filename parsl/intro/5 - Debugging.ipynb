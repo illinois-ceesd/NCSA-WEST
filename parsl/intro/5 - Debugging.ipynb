{
 "cells": [
  {
   "cell_type": "markdown",
   "id": "b2dbd919",
   "metadata": {},
   "source": [
    "# Debugging & Wrapping things up\n",
    "\n",
    "<table style=\"width:90%\">\n",
    "    <tr><td style=\"text-align:left;\"><a href=\"./4 - Intro to Workflows.ipynb\">Previous (Intro to Workflows)</a><td style=\"text-align:right;\"></td></tr>\n",
    "</table>\n",
    "\n",
    "In the case something goes wrong on the Parsl side of things there are a few ways to try and debug the code. There are debug arguments to many of the classes (executors, etc.) which can output more information to the logs. You can also specify where these logs go in some instances. Here we will look at the default logging infrastructure. There are many different layouts for the logging infrastructure on disk, depending on the number of executors, type of channels, number of apps, etc. But they all follow the same general pattern. "
   ]
  },
  {
   "cell_type": "markdown",
   "id": "37053d59",
   "metadata": {},
   "source": [
    "## Local Logs\n",
    "\n",
    "Logs on the local machine (e.g. where you are executing the main script) are put in the following structure below. The root path is where the main script was executed from.\n",
    "\n",
    "```\n",
    "cmd_parsl.slurm.1675882844.0374064.sh\n",
    "runinfo/\n",
    "    000/\n",
    "        parsl.log\n",
    "        local_tpex/\n",
    "            interchange.log\n",
    "            block-0/\n",
    "                321f496c86b4/\n",
    "                    manager.log\n",
    "                    worker_0.log\n",
    "                    worker_1.log\n",
    "                    worker_2.log\n",
    "        submit_scripts/\n",
    "            parsl.slurm.1675882844.0374064.submit\n",
    "            parsl.slurm.1675882844.0374064.submit.stderr\n",
    "            parsl.slurm.1675882844.0374064.submit.stdout\n",
    "    001/\n",
    "    002/\n",
    "\n",
    "```\n",
    "\n",
    "| File                    | Description                                    |\n",
    "| :---------------------- | :--------------------------------------------- |\n",
    "| cmd_parsl.slurm.1675882844.0374064.sh | master script that starts the parsl system |\n",
    "| 000, 001, ...           | there is one directory for each parsl execution |\n",
    "| parsl.log               | stdout/stderr from the main parsl thread, logs messages about configuration, task status, etc. |\n",
    "| ICC_htex                | there will be a directory for each executor (named by the name you gave the executor) |\n",
    "| interchange.log         | messages from the executor connection to the workers |\n",
    "| block-0                 | directory for each block in the job |\n",
    "| 321f496c86b4            | randomly generated directory |\n",
    "| manager.log             | stdout/stderr from manager which handles worker communication and spawning |\n",
    "| submit_scripts          | there will be at least on directory for each type of submit script (the names all end in submit_scritps) |\n",
    "| parsl.1675882844.0374064.submit | the script that will be run on the submit node, in this case it sets up the environment and wraps the srun command, there could be several scripts |\n",
    "| parsl.1675882844.0374064.submit.stderr/stdout | stdout/stderr from running the submit script |"
   ]
  },
  {
   "cell_type": "markdown",
   "id": "358ce764",
   "metadata": {},
   "source": [
    "## Exceptions\n",
    "\n",
    "Parsl is designed to capture, track, and handle various errors occurring during execution, including those related to the program, apps, execution environment, and Parsl itself. It also provides functionality to appropriately respond to failures during execution. Parsl handles the different types of errors (within Parsl, within app, node failure, etc.) in different ways. A good description is given on the Parsl <a href='https://parsl.readthedocs.io/en/stable/userguide/exceptions.html'>user guide</a>.\n",
    "\n",
    "## Retries\n",
    "\n",
    "In case of transient errors, Parsl has built in retry capabilities for tasks. This can be controlled by arguments to the configuration.\n",
    "\n",
    "## Lazy Failure\n",
    "\n",
    "Parsl implements a lazy failure model through which a workload will continue to execute in the case that some tasks fail. That is, the program will not halt as soon as it encounters a failure, rather it will continue to execute unaffected apps."
   ]
  },
  {
   "cell_type": "markdown",
   "id": "39fac16c",
   "metadata": {},
   "source": [
    "# Memoization and checkpointing\n",
    "\n",
    "When an app is invoked several times with the same parameters, Parsl can reuse the result from the first invocation without executing the app again.\n",
    "\n",
    " * App caching will allow reuse of results within the same run\n",
    " * Checkpointing will store results on the filesystem and reuse those results in later runs\n",
    " \n",
    "# Monitoring\n",
    "\n",
    "Parsl has a monitoring system which captures task state and resource usage over time. The data are stored in an SQLite database and there is a script interface to visualize the data. Note that this is still under development."
   ]
  },
  {
   "cell_type": "markdown",
   "id": "fe535e09",
   "metadata": {},
   "source": [
    "<table style=\"width:90%\">\n",
    "    <tr><td style=\"text-align:left;\"><a href=\"./4 - Intro to Workflows.ipynb\">Previous (Intro to Workflows)</a><td style=\"text-align:right;\"></td></tr>\n",
    "</table>"
   ]
  }
 ],
 "metadata": {
  "kernelspec": {
   "display_name": "Python 3 (ipykernel)",
   "language": "python",
   "name": "python3"
  },
  "language_info": {
   "codemirror_mode": {
    "name": "ipython",
    "version": 3
   },
   "file_extension": ".py",
   "mimetype": "text/x-python",
   "name": "python",
   "nbconvert_exporter": "python",
   "pygments_lexer": "ipython3",
   "version": "3.10.12"
  }
 },
 "nbformat": 4,
 "nbformat_minor": 5
}
