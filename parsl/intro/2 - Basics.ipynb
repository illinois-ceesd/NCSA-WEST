{
 "cells": [
  {
   "cell_type": "markdown",
   "id": "cdd7e0a8",
   "metadata": {},
   "source": [
    "# Parsl Basics\n",
    "\n",
    "<table style=\"width:90%\">\n",
    "    <tr><td style=\"text-align:left;\"><a href=\"./1 - Welcome.ipynb\">Welcome</a></td><td style=\"text-align:right;\"><a href=\"./3 - Configurations.ipynb\">Next (Configurations)</a></td></tr>\n",
    "</table>\n",
    "\n",
    "## Apps\n",
    "\n",
    "* Parsl apps are the base unit of work.\n",
    "* There are two flavors\n",
    "  * Python app\n",
    "  * Bash app\n",
    "* They are really just Python functions with a decorator\n",
    "\n",
    "### Python Apps\n",
    "```python\n",
    "@python_app\n",
    "def random_multiply(x):\n",
    "    import random\n",
    "    return x * random.random()\n",
    "```\n",
    "Some Caveats\n",
    "* Python apps are executed asynchronously, and potentially remotely\n",
    "  * Resources cannot be assumed to be shared (e.g. globals, imports)\n",
    "* Any Python object (primitives, files, classes, etc.) can be passed as input arguments\n",
    "  * Must be serializable\n",
    "* Files should be encapsulated in a Parsl File object\n",
    "  * This make sure Parsl can make the file available to the function and track interdependencies\n",
    "  * Files should be given as arguments to the function\n",
    "  * We will discuss file more soon...\n",
    "* stdout/err from remote machines may not be captured\n"
   ]
  },
  {
   "cell_type": "code",
   "execution_count": 2,
   "id": "0e27fa8c",
   "metadata": {},
   "outputs": [],
   "source": [
    "import parsl\n",
    "import os\n",
    "from parsl.app.app import python_app, bash_app\n",
    "from parsl.configs.local_threads import config\n",
    "\n",
    "parsl.load(config)\n",
    "\n",
    "@python_app\n",
    "def random_multiply(x):\n",
    "    import random\n",
    "    return x * random.random()"
   ]
  },
  {
   "cell_type": "code",
   "execution_count": 3,
   "id": "d95d4c70",
   "metadata": {},
   "outputs": [],
   "source": [
    "v = 5\n",
    "print(f\"Random multiply of {v} is {random_multiply(v)}\")"
   ]
  },
  {
   "cell_type": "code",
   "execution_count": 4,
   "id": "a4a70e68",
   "metadata": {},
   "outputs": [],
   "source": [
    "v = 7\n",
    "print(f\"Random multiply of {v} is {random_multiply(v).result()}\")"
   ]
  },
  {
   "cell_type": "markdown",
   "id": "a47d37cc",
   "metadata": {},
   "source": [
    "### Bash Apps\n",
    "```python\n",
    "@bash_app\n",
    "def echo(word, stderr='std.err', stdout='std.out'):\n",
    "    return f'echo \"{word}\"'\n",
    "```\n",
    "* The return of a `bash_app` should be a command that can be executed in a Bash environment\n",
    "* No limit to the length of the command\n",
    "* Files can still be passed as with Python apps\n",
    "* stdout/err are captured and redirected to the given file names\n"
   ]
  },
  {
   "cell_type": "code",
   "execution_count": 5,
   "id": "94a535c1",
   "metadata": {},
   "outputs": [],
   "source": [
    "@bash_app\n",
    "def echo(word, stderr='std.err', stdout='std.out'):\n",
    "    return f'echo \"{word}\"'\n",
    "\n",
    "print(f\"Return value is {echo('Hello world').result()}\")\n",
    "for line in open('std.out', 'r').readlines():\n",
    "    print(line)"
   ]
  },
  {
   "cell_type": "markdown",
   "id": "ea86954a",
   "metadata": {},
   "source": [
    "\n",
    "\n",
    "Note: Bash and Python apps return an `AppFuture` which is similar to `concurrent.futures.Future`. It is a promise that the wrapped code will be executed and the return results will be made available upon request.\n",
    "\n",
    "### App Futures\n",
    "* `done()` - non-blocking check on the status of the app (`True/False`)\n",
    "* `running()` - Returns `True` if the task is currently executing\n",
    "* `result([timeout])` - Returns the result of the executed function, blocks until the execution is complete unless a timeout is given\n",
    "* `cancel()` - Cancel the future if possible\n",
    "\n",
    "\n",
    "## Files\n",
    "\n",
    "Parsl has a File object which abstracts access to a file regardless of where the code is executed. The File object can handle both local\n",
    "\n",
    "```python\n",
    "input_file = File(\"my.input.dat\")    # wraps an existing file\n",
    "output_file = File(\"my.output.dat\")  # wraps a Future\n",
    "```\n",
    "\n",
    "and remote files.\n",
    "\n",
    "```python\n",
    "input_remote_file = File(\"https://raw.githubusercontent.com/Parsl/parsl-tutorial/master/input/unsorted.txt\")  # wraps a remote file\n",
    "```\n",
    "\n",
    "Parsl supports Local, Globus, FTP, HTTP(S), and rsync access to remote files (the user is responsible for any credentials). This is done via `storage_access` arguments in the configuration."
   ]
  },
  {
   "cell_type": "code",
   "execution_count": 6,
   "id": "edc44a39",
   "metadata": {},
   "outputs": [],
   "source": [
    "from parsl.data_provider.files import File\n",
    "\n",
    "# App that copies the contents of a file to another file\n",
    "@bash_app\n",
    "def replace(inputs=[], outputs=[]):\n",
    "     return f\"sed 's/1/!/g' {inputs[0]} > {outputs[0]}\"\n",
    "\n",
    "# Create Parsl file objects\n",
    "input_remote_file = File(\"https://raw.githubusercontent.com/Parsl/parsl-tutorial/master/input/unsorted.txt\")  # wraps a remote file\n",
    "output_file = File(\"replaced.txt\")\n",
    "\n",
    "# Call the replace app with the remote file\n",
    "repl_future = replace(inputs=[input_remote_file], outputs=[output_file])\n",
    "\n",
    "# Read what was redirected to the output file\n",
    "print(f\"The file {output_file.filepath} contains:\")\n",
    "with open(repl_future.outputs[0].result(), 'r') as f:\n",
    "     print(f.read())"
   ]
  },
  {
   "cell_type": "markdown",
   "id": "454544c7",
   "metadata": {},
   "source": [
    "<br><table style=\"width:90%\">\n",
    "    <tr><td style=\"text-align:left;\"><a href=\"./1 - Welcome.ipynb\">Welcome</a></td><td style=\"text-align:right;\"><a href=\"./3 - Configurations.ipynb\">Next (Configurations)</a></td></tr>\n",
    "</table>"
   ]
  }
 ],
 "metadata": {
  "kernelspec": {
   "display_name": "Python 3 (ipykernel)",
   "language": "python",
   "name": "python3"
  },
  "language_info": {
   "codemirror_mode": {
    "name": "ipython",
    "version": 3
   },
   "file_extension": ".py",
   "mimetype": "text/x-python",
   "name": "python",
   "nbconvert_exporter": "python",
   "pygments_lexer": "ipython3",
   "version": "3.10.12"
  }
 },
 "nbformat": 4,
 "nbformat_minor": 5
}
