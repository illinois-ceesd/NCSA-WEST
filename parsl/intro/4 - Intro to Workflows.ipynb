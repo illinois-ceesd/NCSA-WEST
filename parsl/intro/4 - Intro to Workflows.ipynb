{
 "cells": [
  {
   "cell_type": "markdown",
   "id": "df127f7f",
   "metadata": {},
   "source": [
    "# Workflow Basics\n",
    "\n",
    "<table style=\"width:90%\">\n",
    "    <tr><td style=\"text-align:left;\"><a href=\"./3 - Configurations.ipynb\">Previous (Configurations)</a></td><td style=\"text-align:right;\"><a href=\"./5 - Debugging.ipynb\">Next (Debugging)</a></td></tr>\n",
    "</table>\n",
    "\n",
    "\n",
    "## Sequential Workflows\n",
    "\n",
    "Just running tasks one after another, you can even pass AppFutures from task to task"
   ]
  },
  {
   "cell_type": "code",
   "execution_count": 1,
   "id": "6ccf3184",
   "metadata": {},
   "outputs": [],
   "source": [
    "import parsl\n",
    "import os\n",
    "from parsl.app.app import python_app, bash_app\n",
    "from parsl.configs.local_threads import config\n",
    "from parsl.data_provider.files import File\n",
    "\n",
    "parsl.load(config)\n",
    "\n",
    "# App that generates a random number\n",
    "@python_app\n",
    "def generate(limit):\n",
    "      from random import randint\n",
    "      return randint(1,limit)\n",
    "\n",
    "# App that writes a variable to a file\n",
    "@bash_app\n",
    "def save(variable, outputs=[]):\n",
    "      return 'echo %s &> %s' % (variable, outputs[0])\n",
    "\n",
    "# Generate a random number between 1 and 10\n",
    "random = generate(10)\n",
    "print('Random number: %s' % random.result())\n",
    "\n",
    "# Save the random number to a file\n",
    "saved = save(random, outputs=[File(os.path.join(os.getcwd(), 'sequential-output.txt'))])\n",
    "\n",
    "# Print the output file\n",
    "with open(saved.outputs[0].result(), 'r') as f:\n",
    "      print('File contents: %s' % f.read())"
   ]
  },
  {
   "cell_type": "markdown",
   "id": "734e5376",
   "metadata": {},
   "source": [
    "## Parallel Workflows\n",
    "\n",
    "These can be genreated by loops"
   ]
  },
  {
   "cell_type": "code",
   "execution_count": 2,
   "id": "4f8121c5",
   "metadata": {},
   "outputs": [],
   "source": [
    "# App that generates a random number after a delay\n",
    "@python_app\n",
    "def generate(limit,delay):\n",
    "    from random import randint\n",
    "    import time\n",
    "    time.sleep(delay)\n",
    "    return randint(1,limit)\n",
    "\n",
    "# Generate 5 random numbers between 1 and 10\n",
    "rand_nums = []\n",
    "for i in range(5):\n",
    "    rand_nums.append(generate(10,i))\n",
    "\n",
    "# Wait for all apps to finish and collect the results\n",
    "outputs = [i.result() for i in rand_nums]\n",
    "\n",
    "# Print results\n",
    "print(outputs)"
   ]
  },
  {
   "cell_type": "markdown",
   "id": "7a5c340c",
   "metadata": {},
   "source": [
    "and by passing data between Apps."
   ]
  },
  {
   "cell_type": "code",
   "execution_count": 3,
   "id": "e87194d2",
   "metadata": {},
   "outputs": [],
   "source": [
    "# App that generates a semi-random number between 0 and 32,767\n",
    "@bash_app\n",
    "def generate(outputs=[]):\n",
    "    return \"echo $(( RANDOM )) &> {}\".format(outputs[0])\n",
    "\n",
    "# App that concatenates input files into a single output file\n",
    "@bash_app\n",
    "def concat(inputs=[], outputs=[]):\n",
    "    return \"cat {0} > {1}\".format(\" \".join([i.filepath for i in inputs]), outputs[0])\n",
    "\n",
    "# App that calculates the sum of values in a list of input files\n",
    "@python_app\n",
    "def total(inputs=[]):\n",
    "    total = 0\n",
    "    with open(inputs[0], 'r') as f:\n",
    "        for l in f:\n",
    "            total += int(l)\n",
    "    return total\n",
    "\n",
    "# Create 5 files with semi-random numbers in parallel\n",
    "output_files = []\n",
    "for i in range (5):\n",
    "     output_files.append(generate(outputs=[File(os.path.join(os.getcwd(), 'random-{}.txt'.format(i)))]))\n",
    "\n",
    "# Concatenate the files into a single file\n",
    "cc = concat(inputs=[i.outputs[0] for i in output_files], \n",
    "            outputs=[File(os.path.join(os.getcwd(), 'all.txt'))])\n",
    "\n",
    "# Calculate the sum of the random numbers\n",
    "total = total(inputs=[cc.outputs[0]])\n",
    "print (total.result())"
   ]
  },
  {
   "cell_type": "markdown",
   "id": "efbdd4d4",
   "metadata": {},
   "source": [
    "## Dynamic Workflows\n",
    "\n",
    "These workflows are very adaptable and best used when some stages have an unknown number of steps. We use the `join_app` which is used to define sub-workflows. Unlike the other Apps the `join_app` returns an AppFuture and waits for the future to complete before completing. Its result value will be that of the future."
   ]
  },
  {
   "cell_type": "code",
   "execution_count": 4,
   "id": "a20f9294",
   "metadata": {},
   "outputs": [],
   "source": [
    "from parsl.app.app import join_app\n",
    "\n",
    "@python_app\n",
    "def add(*args):\n",
    "    \"\"\"Add all of the arguments together. If no arguments, then\n",
    "    zero is returned (the neutral element of +)\n",
    "    \"\"\"\n",
    "    accumulator = 0\n",
    "    for v in args:\n",
    "        accumulator += v\n",
    "    return accumulator\n",
    "\n",
    "\n",
    "@join_app\n",
    "def fibonacci(n):\n",
    "    if n == 0:\n",
    "        return add()\n",
    "    elif n == 1:\n",
    "        return add(1)\n",
    "    else:\n",
    "        return add(fibonacci(n - 1), fibonacci(n - 2))\n",
    "    \n",
    "print(fibonacci(10).result())"
   ]
  },
  {
   "cell_type": "markdown",
   "id": "1f4d9f64",
   "metadata": {},
   "source": [
    "## Exercise\n",
    "\n",
    "We are going to use the Monte Carlo method to calculate $\\pi$. This is done by dropping points in a square and using the ratio that are placed within the circle.\n",
    "\n",
    "One example is calculating $\\pi$ by randomly placing points in a box and using the ratio that are placed inside the circle.\n",
    "\n",
    "Specifically, if a circle with radius $r$ is inscribed inside a square with side length $2r$, the area of the circle is $\\pi r^2$ and the area of the square is $(2r)^2$.\n",
    "\n",
    "Thus, if $N$ uniformly-distributed random points are dropped within the square, approximately $N\\pi/4$ will be inside the circle.\n",
    "\n",
    "Each call to the function `pi()` is executed independently and in parallel. The  `avg_three()` app is used to compute the average of the futures that were returned from the `pi()` calls.\n",
    "\n",
    "The dependency chain looks like this:\n",
    "\n",
    "```\n",
    "App Calls    pi()  pi()   pi()\n",
    "              \\     |     /\n",
    "Futures        a    b    c\n",
    "                \\   |   /\n",
    "App Call        avg_three()\n",
    "                    |\n",
    "Future            avg_pi\n",
    "```\n",
    "\n",
    "The function that calculates $\\pi$ is given below. Your task is:\n",
    "* Turn this function into an App\n",
    "* Write an App called avg_three() which takes three AppFutures as arguments and returns the average\n",
    "* Each call to pi() should be large enough to well sample the box (~10^6 points), feel free to play around with this value to see how many it takes to within 5%, 1%, or 0.1%"
   ]
  },
  {
   "cell_type": "code",
   "execution_count": 5,
   "id": "866d4f54",
   "metadata": {
    "scrolled": true
   },
   "outputs": [],
   "source": [
    "# App that estimates pi by placing points in a box\n",
    "def pi(num_points):\n",
    "    from random import random\n",
    "    \n",
    "    inside = 0   \n",
    "    for i in range(num_points):\n",
    "        x, y = random(), random()  # Drop a random point in the box.\n",
    "        if x**2 + y**2 < 1:        # Count points within the circle.\n",
    "            inside += 1\n",
    "    \n",
    "    return (inside*4 / num_points)\n",
    "\n",
    "\n",
    "\n",
    "# Print the results\n",
    "print(f\"Average: {pi(10**6):.5f}\")"
   ]
  },
  {
   "cell_type": "code",
   "execution_count": 6,
   "id": "1d91acbc",
   "metadata": {},
   "outputs": [],
   "source": [
    "@python_app\n",
    "def pi(num_points):\n",
    "    from random import random\n",
    "    inside = 0   \n",
    "    for i in range(num_points):\n",
    "        x, y = random(), random()\n",
    "        if x**2 + y**2 < 1:      \n",
    "            inside += 1\n",
    "    return (inside*4 / num_points)\n",
    "\n",
    "@python_app\n",
    "def avg_three(a, b, c):\n",
    "    return (a + b + c) / 3\n",
    "\n",
    "\n",
    "a, b, c = pi(10**6), pi(10**6), pi(10**6)\n",
    "\n",
    "\n",
    "avg_pi  = avg_three(a, b, c)\n",
    "\n",
    "\n",
    "print(f\"Average: {avg_pi.result():.5f}\")"
   ]
  },
  {
   "cell_type": "markdown",
   "id": "34cbe578",
   "metadata": {},
   "source": [
    "<P><BR>\n",
    "<table style=\"width:90%\">\n",
    "    <tr><td style=\"text-align:left;\"><a href=\"./3 - Configurations.ipynb\">Previous (Configurations)</a></td><td style=\"text-align:right;\"><a href=\"./5 - Debugging.ipynb\">Next (Debugging)</a></td></tr>\n",
    "</table>\n"
   ]
  }
 ],
 "metadata": {
  "kernelspec": {
   "display_name": "Python 3 (ipykernel)",
   "language": "python",
   "name": "python3"
  },
  "language_info": {
   "codemirror_mode": {
    "name": "ipython",
    "version": 3
   },
   "file_extension": ".py",
   "mimetype": "text/x-python",
   "name": "python",
   "nbconvert_exporter": "python",
   "pygments_lexer": "ipython3",
   "version": "3.10.12"
  }
 },
 "nbformat": 4,
 "nbformat_minor": 5
}
